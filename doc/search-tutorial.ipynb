{
 "cells": [
  {
   "cell_type": "markdown",
   "metadata": {},
   "source": [
    "# Search local TESS light curves"
   ]
  },
  {
   "cell_type": "markdown",
   "metadata": {},
   "source": [
    "``lightkurve.search_lightcurve`` always search light curve from the online MAST database, but usually we already have downloaded some data. Our `LightCurveDirectory()` object and its method `search_lightcurve` can search for the light curve file in the specific local directory and return them as a lk.LightCurveCollection object."
   ]
  },
  {
   "cell_type": "code",
   "execution_count": 1,
   "metadata": {},
   "outputs": [],
   "source": [
    "import lightkurve_ext as lkx"
   ]
  },
  {
   "cell_type": "code",
   "execution_count": 2,
   "metadata": {},
   "outputs": [],
   "source": [
    "lkx_dir = lkx.LightCurveDirectory('/home/ckm/.lightkurve-cache')"
   ]
  },
  {
   "cell_type": "code",
   "execution_count": 5,
   "metadata": {},
   "outputs": [
    {
     "name": "stderr",
     "output_type": "stream",
     "text": [
      "Warning: 32% (408/1288) of the cadences will be ignored due to the quality mask (quality_bitmask=175).\n"
     ]
    },
    {
     "data": {
      "text/plain": [
       "LightCurveCollection of 5 objects:\n",
       "    0: <TessLightCurve LABEL=\"TIC 10837041\" SECTOR=30 AUTHOR=QLP FLUX_ORIGIN=sap_flux>\n",
       "    1: <TessLightCurve LABEL=\"TIC 10837041\" SECTOR=3 AUTHOR=QLP FLUX_ORIGIN=sap_flux>\n",
       "    2: <TessLightCurve LABEL=\"TIC 10837041\" SECTOR=3 AUTHOR=TESS-SPOC FLUX_ORIGIN=pdcsap_flux>\n",
       "    3: <TessLightCurve LABEL=\"TIC 10837041\" SECTOR=30 AUTHOR=TESS-SPOC FLUX_ORIGIN=pdcsap_flux>\n",
       "    4: <TessLightCurve LABEL=\"TIC 10837041\" SECTOR=30 AUTHOR=SPOC FLUX_ORIGIN=pdcsap_flux>"
      ]
     },
     "execution_count": 5,
     "metadata": {},
     "output_type": "execute_result"
    }
   ],
   "source": [
    "lkx_dir.search_lightcurve(target=10837041)"
   ]
  },
  {
   "cell_type": "markdown",
   "metadata": {},
   "source": [
    "You can find that there are 5 `LightCurve` objects from different sectors and authors. Usually we only need some of them with a given author priority. For example, we prefer the offical TESS light curve (SPOC) most, then we want to include TESS-SPOC, QLP as they are the High Level Science Products."
   ]
  },
  {
   "cell_type": "markdown",
   "metadata": {},
   "source": [
    "## Design for constructed TESS light curve directory\n",
    "\n",
    "If you already have downloaded some TESS light curves, and if the directory tree is constructed as the following: ``local_path/sector_1/**/*.fits``, ``local_path/sector_2/**/*.fits``, etc. Then, use the following function with sector_tree = True as the default keywords."
   ]
  },
  {
   "cell_type": "code",
   "execution_count": 18,
   "metadata": {},
   "outputs": [
    {
     "data": {
      "text/plain": [
       "LightCurveCollection of 3 objects:\n",
       "    0: <TessLightCurve LABEL=\"TIC 386319774\" SECTOR=6 AUTHOR=SPOC FLUX_ORIGIN=pdcsap_flux>\n",
       "    1: <TessLightCurve LABEL=\"TIC 386319774\" SECTOR=33 AUTHOR=SPOC FLUX_ORIGIN=pdcsap_flux>\n",
       "    2: <TessLightCurve LABEL=\"TIC 386319774\" SECTOR=44 AUTHOR=SPOC FLUX_ORIGIN=pdcsap_flux>"
      ]
     },
     "execution_count": 18,
     "metadata": {},
     "output_type": "execute_result"
    }
   ],
   "source": [
    "lkx_dir.search_TESSlightcurve(target=386319774, sector=[6, 33, 44], exptime=120, author='SPOC')"
   ]
  },
  {
   "cell_type": "code",
   "execution_count": null,
   "metadata": {},
   "outputs": [],
   "source": []
  }
 ],
 "metadata": {
  "interpreter": {
   "hash": "19b730385f174195da8475c5e88dedb8e990eb791c422ddf3871e51353629f7a"
  },
  "kernelspec": {
   "display_name": "Python 3.8.0 64-bit ('mpi-dt')",
   "language": "python",
   "name": "python3"
  },
  "language_info": {
   "codemirror_mode": {
    "name": "ipython",
    "version": 3
   },
   "file_extension": ".py",
   "mimetype": "text/x-python",
   "name": "python",
   "nbconvert_exporter": "python",
   "pygments_lexer": "ipython3",
   "version": "3.8.0"
  },
  "orig_nbformat": 4
 },
 "nbformat": 4,
 "nbformat_minor": 2
}
