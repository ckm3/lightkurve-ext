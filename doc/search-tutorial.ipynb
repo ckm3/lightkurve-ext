{
 "cells": [
  {
   "cell_type": "markdown",
   "metadata": {},
   "source": [
    "# Search local TESS light curves"
   ]
  },
  {
   "cell_type": "markdown",
   "metadata": {},
   "source": [
    "``lightkurve.search_lightcurve`` always search light curve from the online MAST database, but usually we already have downloaded some data. Our `search_local_lightcurve()` function can search for the light curve file in the specific local directory and return them as a lk.LightCurveCollection object."
   ]
  },
  {
   "cell_type": "code",
   "execution_count": 2,
   "metadata": {},
   "outputs": [],
   "source": [
    "import lightkurve_ext as lkx"
   ]
  },
  {
   "cell_type": "code",
   "execution_count": 19,
   "metadata": {},
   "outputs": [
    {
     "data": {
      "text/plain": [
       "LightCurveCollection of 4 objects:\n",
       "    0: <TessLightCurve LABEL=\"TIC 386319774\" SECTOR=44 AUTHOR=SPOC FLUX_ORIGIN=pdcsap_flux>\n",
       "    1: <TessLightCurve LABEL=\"TIC 386319774\" SECTOR=6 AUTHOR=SPOC FLUX_ORIGIN=pdcsap_flux>\n",
       "    2: <TessLightCurve LABEL=\"TIC 386319774\" SECTOR=33 AUTHOR=SPOC FLUX_ORIGIN=pdcsap_flux>\n",
       "    3: <TessLightCurve LABEL=\"TIC 386319774\" SECTOR=45 AUTHOR=SPOC FLUX_ORIGIN=pdcsap_flux>"
      ]
     },
     "execution_count": 19,
     "metadata": {},
     "output_type": "execute_result"
    }
   ],
   "source": [
    "lkx.search_local_lightcurve(target=386319774, local_path='/home/ckm/.lightkurve-cache', exptime=120, author='SPOC')"
   ]
  },
  {
   "cell_type": "markdown",
   "metadata": {},
   "source": [
    "If you already have downloaded some TESS light curves, and if the directory tree is constructed as the following: ``local_path/sector_1/**/*.fits``, ``local_path/sector_2/**/*.fits``, etc. Then, use the following function with sector_tree = True as the default keywords."
   ]
  },
  {
   "cell_type": "code",
   "execution_count": 18,
   "metadata": {},
   "outputs": [
    {
     "data": {
      "text/plain": [
       "LightCurveCollection of 3 objects:\n",
       "    0: <TessLightCurve LABEL=\"TIC 386319774\" SECTOR=6 AUTHOR=SPOC FLUX_ORIGIN=pdcsap_flux>\n",
       "    1: <TessLightCurve LABEL=\"TIC 386319774\" SECTOR=33 AUTHOR=SPOC FLUX_ORIGIN=pdcsap_flux>\n",
       "    2: <TessLightCurve LABEL=\"TIC 386319774\" SECTOR=44 AUTHOR=SPOC FLUX_ORIGIN=pdcsap_flux>"
      ]
     },
     "execution_count": 18,
     "metadata": {},
     "output_type": "execute_result"
    }
   ],
   "source": [
    "lkx.search_local_TESSlightcurve(target=386319774, local_path='/home/ckm/TESS_download/', sector=[6, 33, 44], exptime=120, author='SPOC')"
   ]
  },
  {
   "cell_type": "code",
   "execution_count": null,
   "metadata": {},
   "outputs": [],
   "source": []
  }
 ],
 "metadata": {
  "interpreter": {
   "hash": "69b3758e6e65f3259784859389d1aa427bf2d35e1ae5a13ff90d16cea30c0c2c"
  },
  "kernelspec": {
   "display_name": "Python 3.8.10 ('deep-transit')",
   "language": "python",
   "name": "python3"
  },
  "language_info": {
   "codemirror_mode": {
    "name": "ipython",
    "version": 3
   },
   "file_extension": ".py",
   "mimetype": "text/x-python",
   "name": "python",
   "nbconvert_exporter": "python",
   "pygments_lexer": "ipython3",
   "version": "3.8.10"
  },
  "orig_nbformat": 4
 },
 "nbformat": 4,
 "nbformat_minor": 2
}
